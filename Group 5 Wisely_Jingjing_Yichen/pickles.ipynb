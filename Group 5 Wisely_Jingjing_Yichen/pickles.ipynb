{
 "cells": [
  {
   "cell_type": "code",
   "execution_count": 5,
   "metadata": {},
   "outputs": [],
   "source": [
    "from __future__ import print_function\n",
    "from ipywidgets import interact, interactive, fixed, interact_manual\n",
    "import ipywidgets as widgets\n",
    "\n",
    "%matplotlib inline \n",
    "import requests\n",
    "import pandas as pd\n",
    "import json\n",
    "from IPython.display import HTML, display\n",
    "import pickle\n",
    "PIK = \"pickle.dat\""
   ]
  },
  {
   "cell_type": "markdown",
   "metadata": {},
   "source": [
    "## ACS column table "
   ]
  },
  {
   "cell_type": "code",
   "execution_count": 3,
   "metadata": {},
   "outputs": [],
   "source": [
    "acsdata = [['Column name', 'Desc'],\n",
    "        ['DP02_0126E','Percent RACE Total population One race Asian Vietnamese'],\n",
    "        ['DP04_0047E', 'Estimate HOUSING TENURE Occupied housing units Renter-occupied'],\n",
    "        ['DP02PR_0083PE', 'Percent RESIDENCE 1 YEAR AGO Population 1 year and over Different house in Puerto Rico or the U.S. In Puerto Rico Same municipio'],\n",
    "        ['DP02_0126E','Estimate ANCESTRY Total population Czech']\n",
    "        ]"
   ]
  },
  {
   "cell_type": "code",
   "execution_count": 6,
   "metadata": {},
   "outputs": [],
   "source": [
    "b = pickle.dumps(acsdata) "
   ]
  },
  {
   "cell_type": "code",
   "execution_count": null,
   "metadata": {},
   "outputs": [],
   "source": []
  }
 ],
 "metadata": {
  "kernelspec": {
   "display_name": "Python 3",
   "language": "python",
   "name": "python3"
  },
  "language_info": {
   "codemirror_mode": {
    "name": "ipython",
    "version": 3
   },
   "file_extension": ".py",
   "mimetype": "text/x-python",
   "name": "python",
   "nbconvert_exporter": "python",
   "pygments_lexer": "ipython3",
   "version": "3.8.5"
  }
 },
 "nbformat": 4,
 "nbformat_minor": 4
}
