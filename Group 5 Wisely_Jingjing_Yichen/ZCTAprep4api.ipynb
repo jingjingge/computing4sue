{
 "cells": [
  {
   "cell_type": "code",
   "execution_count": 140,
   "metadata": {},
   "outputs": [],
   "source": [
    "import pandas as pd\n",
    "import numpy as np\n",
    "import geopandas as gpd\n",
    "import pickle\n",
    "import matplotlib \n",
    "import matplotlib.pyplot as plt"
   ]
  },
  {
   "cell_type": "code",
   "execution_count": 141,
   "metadata": {},
   "outputs": [],
   "source": [
    "bxZCTA = gpd.read_file('/Users/avigailvantu/Documents/DoH/zcta/bronxZCTA')\n",
    "bkZCTA = gpd.read_file('/Users/avigailvantu/Documents/DoH/zcta/brooklynZCTA')\n",
    "mnZCTA = gpd.read_file('/Users/avigailvantu/Documents/DoH/zcta/mnZCTA')\n",
    "siZCTA = gpd.read_file('/Users/avigailvantu/Documents/DoH/zcta/siZCTA')\n",
    "qnZCTA = gpd.read_file('/Users/avigailvantu/Documents/DoH/zcta/queensZCTA')\n",
    "\n",
    "#all NYC\n",
    "nycZCTA = gpd.read_file('/Users/avigailvantu/Documents/DoH/zcta/zctashape')"
   ]
  },
  {
   "cell_type": "code",
   "execution_count": 142,
   "metadata": {},
   "outputs": [
    {
     "data": {
      "text/html": [
       "<div>\n",
       "<style scoped>\n",
       "    .dataframe tbody tr th:only-of-type {\n",
       "        vertical-align: middle;\n",
       "    }\n",
       "\n",
       "    .dataframe tbody tr th {\n",
       "        vertical-align: top;\n",
       "    }\n",
       "\n",
       "    .dataframe thead th {\n",
       "        text-align: right;\n",
       "    }\n",
       "</style>\n",
       "<table border=\"1\" class=\"dataframe\">\n",
       "  <thead>\n",
       "    <tr style=\"text-align: right;\">\n",
       "      <th></th>\n",
       "      <th>zcta</th>\n",
       "      <th>bcode</th>\n",
       "      <th>note</th>\n",
       "      <th>geometry</th>\n",
       "    </tr>\n",
       "  </thead>\n",
       "  <tbody>\n",
       "    <tr>\n",
       "      <th>0</th>\n",
       "      <td>10451</td>\n",
       "      <td>36005</td>\n",
       "      <td>None</td>\n",
       "      <td>POLYGON ((-73.92267 40.82685, -73.92222 40.827...</td>\n",
       "    </tr>\n",
       "    <tr>\n",
       "      <th>1</th>\n",
       "      <td>10452</td>\n",
       "      <td>36005</td>\n",
       "      <td>None</td>\n",
       "      <td>POLYGON ((-73.92060 40.84629, -73.91956 40.846...</td>\n",
       "    </tr>\n",
       "    <tr>\n",
       "      <th>2</th>\n",
       "      <td>10453</td>\n",
       "      <td>36005</td>\n",
       "      <td>None</td>\n",
       "      <td>POLYGON ((-73.91664 40.85799, -73.91616 40.858...</td>\n",
       "    </tr>\n",
       "    <tr>\n",
       "      <th>3</th>\n",
       "      <td>10454</td>\n",
       "      <td>36005</td>\n",
       "      <td>None</td>\n",
       "      <td>POLYGON ((-73.91647 40.81231, -73.91488 40.811...</td>\n",
       "    </tr>\n",
       "    <tr>\n",
       "      <th>4</th>\n",
       "      <td>10455</td>\n",
       "      <td>36005</td>\n",
       "      <td>None</td>\n",
       "      <td>POLYGON ((-73.91712 40.81751, -73.91821 40.817...</td>\n",
       "    </tr>\n",
       "  </tbody>\n",
       "</table>\n",
       "</div>"
      ],
      "text/plain": [
       "    zcta  bcode  note                                           geometry\n",
       "0  10451  36005  None  POLYGON ((-73.92267 40.82685, -73.92222 40.827...\n",
       "1  10452  36005  None  POLYGON ((-73.92060 40.84629, -73.91956 40.846...\n",
       "2  10453  36005  None  POLYGON ((-73.91664 40.85799, -73.91616 40.858...\n",
       "3  10454  36005  None  POLYGON ((-73.91647 40.81231, -73.91488 40.811...\n",
       "4  10455  36005  None  POLYGON ((-73.91712 40.81751, -73.91821 40.817..."
      ]
     },
     "execution_count": 142,
     "metadata": {},
     "output_type": "execute_result"
    }
   ],
   "source": [
    "bronxZCTA.head()"
   ]
  },
  {
   "cell_type": "code",
   "execution_count": 151,
   "metadata": {},
   "outputs": [
    {
     "data": {
      "text/plain": [
       "<function matplotlib.pyplot.show(*args, **kw)>"
      ]
     },
     "execution_count": 151,
     "metadata": {},
     "output_type": "execute_result"
    },
    {
     "data": {
      "image/png": "[encoded data removed]",
      "text/plain": [
       "<Figure size 432x288 with 1 Axes>"
      ]
     },
     "metadata": {
      "needs_background": "light"
     },
     "output_type": "display_data"
    }
   ],
   "source": [
    "bxZCTA.plot(color='purple')\n",
    "plt.axis('off')\n",
    "plt.title('Bronx ZCTA')\n",
    "plt.show"
   ]
  },
  {
   "cell_type": "code",
   "execution_count": 113,
   "metadata": {},
   "outputs": [],
   "source": [
    "#zipNYC = [bronxZCTA,brooklynZCTA,mnZCTA,siZCTA]\n",
    "BXzip=bxZCTA['zcta'].to_list()\n",
    "BKzip=bkZCTA['zcta'].to_list()\n",
    "MNzip=mnZCTA['zcta'].to_list()\n",
    "QNzip=qnZCTA['zcta'].to_list()\n",
    "SIzip=siZCTA['zcta'].to_list()\n"
   ]
  },
  {
   "cell_type": "code",
   "execution_count": 116,
   "metadata": {},
   "outputs": [
    {
     "data": {
      "text/plain": [
       "['10301',\n",
       " '10302',\n",
       " '10303',\n",
       " '10304',\n",
       " '10305',\n",
       " '10306',\n",
       " '10307',\n",
       " '10308',\n",
       " '10309',\n",
       " '10310',\n",
       " '10311',\n",
       " '10312',\n",
       " '10314']"
      ]
     },
     "execution_count": 116,
     "metadata": {},
     "output_type": "execute_result"
    }
   ],
   "source": [
    "SIzip"
   ]
  },
  {
   "cell_type": "code",
   "execution_count": 117,
   "metadata": {},
   "outputs": [],
   "source": [
    "# remove barackets and single qouts \n",
    "BXzip = ', '.join(BXzip)\n",
    "BKzip = ', '.join(BKzip)\n",
    "SIzip = ', '.join(SIzip)\n",
    "QNzip = ', '.join(QNzip)\n",
    "MNzip = ', '.join(MNzip)\n",
    "\n"
   ]
  },
  {
   "cell_type": "code",
   "execution_count": 129,
   "metadata": {},
   "outputs": [
    {
     "name": "stdout",
     "output_type": "stream",
     "text": [
      "10451, 10452, 10453, 10454, 10455, 10456, 10457, 10458, 10459, 10460, 10471, 10461, 10462, 10463, 10464, 10465, 10466, 10467, 10468, 10472, 10469, 10470, 10473, 10474, 10475\n",
      "11201, 11203, 11204, 11205, 11206, 11207, 11208, 11209, 11210, 11211, 11212, 11213, 11214, 11215, 11216, 11217, 11218, 11219, 11220, 11221, 11222, 11223, 11226, 11224, 11225, 11228, 11229, 11230, 11231, 11232, 11236, 11233, 11237, 11238, 11234, 11239, 11235, 11425\n",
      "10301, 10302, 10303, 10304, 10305, 10306, 10307, 10308, 10309, 10310, 10311, 10312, 10314\n",
      "11104, 11106, 11105, 11001, 11101, 11102, 11003, 11004, 11005, 11109, 11040, 11103, 11351, 11372, 11354, 11355, 11356, 11412, 11357, 11358, 11359, 11360, 11361, 11362, 11363, 11364, 11365, 11366, 11367, 11368, 11369, 11370, 11371, 11373, 11374, 11375, 11415, 11377, 11378, 11416, 11379, 11385, 11411, 11413, 11414, 11417, 11418, 11419, 11420, 11421, 11422, 11423, 11424, 11426, 11427, 11428, 11429, 11430, 11432, 11433, 11434, 11692, 11435, 11436, 11451, 11691, 11693, 11694, 11697\n",
      "10001, 10002, 10003, 10007, 10009, 10036, 10004, 10005, 10006, 10010, 10011, 10012, 10013, 10032, 10014, 10016, 10017, 10018, 10033, 10019, 10020, 10021, 10022, 10023, 10034, 10024, 10025, 10026, 10035, 10037, 10027, 10028, 10029, 10030, 10031, 10038, 10039, 10040, 10044, 10065, 10069, 10075, 10103, 10110, 10111, 10112, 10115, 10119, 10128, 10152, 10153, 10154, 10162, 10165, 10167, 10168, 10169, 10170, 10171, 10172, 10173, 10174, 10177, 10199, 10271, 10278, 10279, 10280, 10282\n"
     ]
    }
   ],
   "source": [
    "print (BXzip)\n",
    "print (BKzip)\n",
    "print (SIzip)\n",
    "print (QNzip)\n",
    "print (MNzip)\n"
   ]
  },
  {
   "cell_type": "code",
   "execution_count": 100,
   "metadata": {},
   "outputs": [],
   "source": [
    "#map(int, BXzip)\n",
    "#BXzip = BXzip.replace(\"'\",\"\")\n",
    "#BXzip = '\\''+ BXzip + '\\'';"
   ]
  },
  {
   "cell_type": "code",
   "execution_count": 131,
   "metadata": {},
   "outputs": [],
   "source": [
    "#pickle\n",
    "with open('BXzip.pkl', 'wb') as f:\n",
    "    pickle.dump(BXzip, f)\n",
    "    \n",
    "with open('BKzip.pkl', 'wb') as f:\n",
    "    pickle.dump(BKzip, f)\n",
    "    \n",
    "with open('QNzip.pkl', 'wb') as f:\n",
    "    pickle.dump(QNzip, f)\n",
    "    \n",
    "with open('MNzip.pkl', 'wb') as f:\n",
    "    pickle.dump(MNzip, f)\n",
    "    \n",
    "with open('SIzip.pkl', 'wb') as f:\n",
    "    pickle.dump(SIzip, f)"
   ]
  },
  {
   "cell_type": "markdown",
   "metadata": {},
   "source": [
    "# Variaibles from ACS: \n"
   ]
  },
  {
   "cell_type": "code",
   "execution_count": null,
   "metadata": {},
   "outputs": [],
   "source": []
  }
 ],
 "metadata": {
  "kernelspec": {
   "display_name": "Python 3",
   "language": "python",
   "name": "python3"
  },
  "language_info": {
   "codemirror_mode": {
    "name": "ipython",
    "version": 3
   },
   "file_extension": ".py",
   "mimetype": "text/x-python",
   "name": "python",
   "nbconvert_exporter": "python",
   "pygments_lexer": "ipython3",
   "version": "3.8.5"
  }
 },
 "nbformat": 4,
 "nbformat_minor": 4
}
