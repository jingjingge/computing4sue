{
  "nbformat": 4,
  "nbformat_minor": 0,
  "metadata": {
    "colab": {
      "name": "class_7.ipynb",
      "provenance": [],
      "collapsed_sections": [],
      "toc_visible": true,
      "include_colab_link": true
    },
    "kernelspec": {
      "name": "python3",
      "display_name": "Python 3"
    }
  },
  "cells": [
    {
      "cell_type": "markdown",
      "metadata": {
        "id": "view-in-github",
        "colab_type": "text"
      },
      "source": [
        "<a href=\"https://colab.research.google.com/github/jingjingge/computing4sue/blob/main/class_7.ipynb\" target=\"_parent\"><img src=\"https://colab.research.google.com/assets/colab-badge.svg\" alt=\"Open In Colab\"/></a>"
      ]
    },
    {
      "cell_type": "markdown",
      "metadata": {
        "id": "zOJQ4tz5pBHw"
      },
      "source": [
        "# Welcome to Jupyter Notebook! \n",
        "\n",
        "Today we will work with Google Colab which is a tool to share Jupyter Notebooks. Before we dive into workinng with actual datasets we'll do some exercises to learn the fonctionality of Jupyter Notebook. \n",
        "\n",
        "As we will learn during our sessions, there are many fun and cool things about Jupyter. \n",
        "\n",
        "To name a few: \n",
        "\n",
        "- It is part of the Open Source movement and therefore is totally free!\n",
        "- Jupyter Notebooks is a powerful tool for interactively working as well as presenting your code. One of the features I like most about Jupyter is that it enables data scientists to be totally transparent about their work and display it to audience from different backgrounds. So you do not need to have programming knowledge to understand a notebook. That is because Jupyter works in a format of immidiate input and output. So if you are reading a notebook written by someone else and they have created bar plots to display the amount of rain for the past 10 years you could see the output of the code (the bar plot). In this case you do not have to understand the code to understand the output of said analysis. \n",
        "- Another thing is that it is possible to write in a few languages on Jupyter (like SQL). Having said that, Python is the most popular and easy to work with on Jupyter. \n",
        "- We will learn some programming in this class. But will mostly focus on specific functionalities to working with data, espcially spatial data. \n",
        "\n",
        "## Install Anaconda on your computer. \n",
        "Note that this step is **not** needed for today's class. Going forward, it is preferable that you all have Jupyter and Python installed on your machines. Anaconda is the simplest way to have these on your computer. \n",
        "1. Go to [anaconda.com ](https://)\n",
        "2. Click the **download** button and follow the steps as instructed\n",
        "3. You will notice that on the anaconda website you will have an option to download two versions of Python: Python 3.7 or Python 2.7. Note that the open source community **stopped** supporting Python 2.7 on Jan 1st 2020. **Therefore, we will all be downloading and working with python 3.7.** \n",
        "4. Follow the prompts and choose the best option according to your operating system (Mac OS, Windows, or Linux). \n",
        "Video tutorial for installing Anaconda: https://www.linkedin.com/learning/introducing-jupyter/installing-jupyter?u=2131553\n",
        "\n",
        "## Running Jupyter: \n",
        "- Now let’s make sure Jupyter actually works. There are two ways to launch it \n",
        "1. By going to the command line and navigating to your working directory. Linux and MacOS command lines use bash a script language. You do not have to know how to use your command line. But this could be useful information for sure. To navigate to a directory you need to cd into the folder name. For example for me to navigate into this class directory I will need to type: cd Documents/ComputingClass/class_7/  \n",
        "Tip: use \"tab\" often when you don't remember the full folder name. For example you could type: Docu and then Tab for the computer to auto complete the folder name to Documents.  \n",
        "    * Once you are in the right directory, write “Jupyter notebook” and Jupyter will be launched on your default browser \n",
        "    * This will open the Jupyter dashboard which will show all the contents of your work folder \n",
        "    * You will see on the right side of the screen a square that says - New- then you could launch a new Python 3 notebook \n",
        "2. You could also open Jupyter directly from Anaconda — this is probably the easiest way to open Jupyter notebooks. \n",
        "\n",
        "\n"
      ]
    },
    {
      "cell_type": "markdown",
      "metadata": {
        "id": "5tvmO7rYVLOW"
      },
      "source": [
        "Notice that Jupyter will only give you access to files that are in the directory you are at. In addition, you may have noticed that the URL Jupyter opens looks something like this: http://localhost:8888/tree \n",
        "Note that this is not a website but a local machine that runs on your laptop. "
      ]
    },
    {
      "cell_type": "markdown",
      "metadata": {
        "id": "dEOnaeXpXoTr"
      },
      "source": [
        "# About the Jupyter Notebook Graphical User Interface:\n",
        "As mentioned, today we will work on a Google Colab, which is version of Jupyter which does not require downloading or installing anything. This is because the colab runs on the cloud. Python and selected packages are all installed on Google's machines and we don't need to worry about it. This is a good way to interact with Jupyter at first because is enables learning Jupyter without the need to first install packages. In future classes we will rely more on having Jupyter on our machines. In most part it looks the same. However there are some differences we will cover in the next week. \n",
        "\n",
        "**Cells** are an important element of Jupyter Notebooks, code and text are the two main types of cells used on notebooks. The code cell is used to write script and the text one is used to write markdown which like the one you are reading right now. \n",
        "\n",
        "The easiest way to **run a cell** is to shift-enter a selected cell. \n",
        "\n",
        "\n",
        "\n",
        "OK, it's time to start doing some fun stuff with Jupyter!            "
      ]
    },
    {
      "cell_type": "markdown",
      "metadata": {
        "id": "BZU0RHj6W_--"
      },
      "source": [
        "# Getting started with some basic commands"
      ]
    },
    {
      "cell_type": "markdown",
      "metadata": {
        "id": "VFY_km-A79uC"
      },
      "source": [
        "Let's start with a simple command: "
      ]
    },
    {
      "cell_type": "code",
      "metadata": {
        "id": "Y-YEFU3Jo2AX"
      },
      "source": [
        "#for example, we can define a new variable: \"greeting\" \n",
        "greeting = 'Hey there C4SUE!'"
      ],
      "execution_count": null,
      "outputs": []
    },
    {
      "cell_type": "code",
      "metadata": {
        "id": "IRuvHDBho5rM",
        "colab": {
          "base_uri": "https://localhost:8080/"
        },
        "collapsed": true,
        "outputId": "ee2ed924-f74a-4c44-f97c-93b25d50f947"
      },
      "source": [
        "# now our newly created variable is stored in Python's memory and can pull it whenever we want!  \n",
        "print (greeting)"
      ],
      "execution_count": null,
      "outputs": [
        {
          "output_type": "stream",
          "text": [
            "Hey there C4SUE!\n"
          ],
          "name": "stdout"
        }
      ]
    },
    {
      "cell_type": "code",
      "metadata": {
        "id": "X90DTsCio8XE"
      },
      "source": [
        "# we can also define a \"question\" \n",
        "question = 'How are you?'"
      ],
      "execution_count": null,
      "outputs": []
    },
    {
      "cell_type": "code",
      "metadata": {
        "id": "qooap7wHucsm",
        "colab": {
          "base_uri": "https://localhost:8080/"
        },
        "collapsed": true,
        "outputId": "25ba1b55-a7af-4bbc-9ea0-edaee8d0de8c"
      },
      "source": [
        "print (question)"
      ],
      "execution_count": null,
      "outputs": [
        {
          "output_type": "stream",
          "text": [
            "How are you?\n"
          ],
          "name": "stdout"
        }
      ]
    },
    {
      "cell_type": "code",
      "metadata": {
        "id": "UtiRDaWKo-v4",
        "colab": {
          "base_uri": "https://localhost:8080/"
        },
        "collapsed": true,
        "outputId": "8c38bbe0-de8f-4ff4-9a9f-3bf5dcf1986f"
      },
      "source": [
        "# finaly we can combine both variables\n",
        "print (greeting,question)"
      ],
      "execution_count": null,
      "outputs": [
        {
          "output_type": "stream",
          "text": [
            "Hey there C4SUE! How are you?\n"
          ],
          "name": "stdout"
        }
      ]
    },
    {
      "cell_type": "code",
      "metadata": {
        "id": "seh4LlLjyXYg"
      },
      "source": [
        "# we can also define numeric variables \n",
        "X = 30\n",
        "Y = 15 "
      ],
      "execution_count": null,
      "outputs": []
    },
    {
      "cell_type": "code",
      "metadata": {
        "id": "fqMhhNSlyg5k",
        "colab": {
          "base_uri": "https://localhost:8080/"
        },
        "collapsed": true,
        "outputId": "8549f242-a389-4799-97da-a4949fc60fb2"
      },
      "source": [
        "# and multiple things like calculate this equation:\n",
        "\n",
        "X+Y "
      ],
      "execution_count": null,
      "outputs": [
        {
          "output_type": "execute_result",
          "data": {
            "text/plain": [
              "45"
            ]
          },
          "metadata": {
            "tags": []
          },
          "execution_count": 10
        }
      ]
    },
    {
      "cell_type": "code",
      "metadata": {
        "id": "CUIrcQGozFL2",
        "colab": {
          "base_uri": "https://localhost:8080/"
        },
        "collapsed": true,
        "outputId": "3484e15d-4c83-4c58-84ad-8d42e7985c24"
      },
      "source": [
        " #Or this one: \n",
        " X*Y"
      ],
      "execution_count": null,
      "outputs": [
        {
          "output_type": "execute_result",
          "data": {
            "text/plain": [
              "450"
            ]
          },
          "metadata": {
            "tags": []
          },
          "execution_count": 11
        }
      ]
    },
    {
      "cell_type": "code",
      "metadata": {
        "id": "2k8uDMpPzSEb",
        "colab": {
          "base_uri": "https://localhost:8080/"
        },
        "collapsed": true,
        "outputId": "6744fe23-0294-448b-989c-983918c9377f"
      },
      "source": [
        "2*(X-4*Y)"
      ],
      "execution_count": null,
      "outputs": [
        {
          "output_type": "execute_result",
          "data": {
            "text/plain": [
              "-60"
            ]
          },
          "metadata": {
            "tags": []
          },
          "execution_count": 12
        }
      ]
    },
    {
      "cell_type": "code",
      "metadata": {
        "id": "cWP8aBDqzYWR",
        "colab": {
          "base_uri": "https://localhost:8080/"
        },
        "collapsed": true,
        "outputId": "fb6175d5-75d1-4710-99ca-21aaa859d5d1"
      },
      "source": [
        "Y/X"
      ],
      "execution_count": null,
      "outputs": [
        {
          "output_type": "execute_result",
          "data": {
            "text/plain": [
              "0.5"
            ]
          },
          "metadata": {
            "tags": []
          },
          "execution_count": 13
        }
      ]
    },
    {
      "cell_type": "markdown",
      "metadata": {
        "id": "TXzbdd7BpNmO"
      },
      "source": [
        "### Packages: \n",
        "On Jupyter, we can load packages to perform certain analyses and execute code. Usually we will load packages at the beginning of our Jupyter Notebook. That helps us stay organized with our code.  \n",
        "\n",
        "### Matplotlib\n",
        "\n",
        "Matplotlib is a package used quite a lot with Jupyter. In particular, matplotlib.pyplot provides cool ways to visualize data. Le'ts give it a try. First let's import all packages needed for today"
      ]
    },
    {
      "cell_type": "code",
      "metadata": {
        "id": "rnRP5GAYpOi1"
      },
      "source": [
        "import matplotlib.pyplot as plt\n",
        "import numpy as np\n",
        "import pandas as pd\n",
        "import matplotlib\n",
        "from numpy.random import rand\n",
        "%matplotlib inline"
      ],
      "execution_count": null,
      "outputs": []
    },
    {
      "cell_type": "markdown",
      "metadata": {
        "id": "NNaVvV0mqHGG"
      },
      "source": [
        "At any point, we can get help from Jupyter using a simple command to see the docomentation for the package. "
      ]
    },
    {
      "cell_type": "code",
      "metadata": {
        "id": "xldNudQ7qI2f"
      },
      "source": [
        "# If you execute this command you could see all the pyplot docomentation. \n",
        "?plt.plot"
      ],
      "execution_count": null,
      "outputs": []
    },
    {
      "cell_type": "markdown",
      "metadata": {
        "id": "KVaATpeo73-o"
      },
      "source": [
        "## 1. basic features: display data on X and Y axis "
      ]
    },
    {
      "cell_type": "code",
      "metadata": {
        "id": "yw-uA8aWlRag"
      },
      "source": [
        "# Let's start with some fake data influenced by data from https://datatofish.com/plot-dataframe-pandas/ \n",
        "# First, we can start with the Stock_index_price and then the mean_income\n",
        "\n",
        "#start with creating the first column:\n",
        "\n",
        "Stock_index_price = [1500, 1520, 1525, 1523, 1515, 1540, 1545, 1560, 1555]"
      ],
      "execution_count": null,
      "outputs": []
    },
    {
      "cell_type": "code",
      "metadata": {
        "id": "jaUrE0-NqQEC"
      },
      "source": [
        "# now let's go ahead and write up the second column: \n",
        "mean_income = [1750, 1780 , 1800 , 1770, 1700, 1750, 1800, 1850 , 1800]"
      ],
      "execution_count": null,
      "outputs": []
    },
    {
      "cell_type": "code",
      "metadata": {
        "id": "J8sAA_DJqwEm"
      },
      "source": [
        "# let's add imaginary years for our fake data: \n",
        "year = [2000, 2001, 2002, 2003, 2004, 2005, 2006, 2007, 2008]"
      ],
      "execution_count": null,
      "outputs": []
    },
    {
      "cell_type": "code",
      "metadata": {
        "id": "_d6O4Gr4rGl0",
        "colab": {
          "base_uri": "https://localhost:8080/",
          "height": 265
        },
        "collapsed": true,
        "outputId": "294e331f-ed74-4017-aa77-18cb8f8606ed"
      },
      "source": [
        "#now let's create a simple plot: we want to plot the years and the stock index prices\n",
        "# using the plt.plot() commands. \n",
        "#The first argument will be for the X axis and the second is the colum we want to plot on the Y axis: \n",
        "\n",
        "plt.plot(year, Stock_index_price)\n",
        "\n",
        "# we now want pyplot to actually show the chart we are visualizing\n",
        "plt.show()\n"
      ],
      "execution_count": null,
      "outputs": [
        {
          "output_type": "display_data",
          "data": {
            "image/png": "[encoded data removed]",
            "text/plain": [
              "<Figure size 432x288 with 1 Axes>"
            ]
          },
          "metadata": {
            "tags": [],
            "needs_background": "light"
          }
        }
      ]
    },
    {
      "cell_type": "markdown",
      "metadata": {
        "id": "m0R-TAnes2X0"
      },
      "source": [
        "Here's our first pychart! \n",
        "\n",
        "Look at the axis and see that the X axis is defined from the \"Year\" column and the Y is the Stock range. "
      ]
    },
    {
      "cell_type": "code",
      "metadata": {
        "id": "EcjVRJ5Pzb5N",
        "colab": {
          "base_uri": "https://localhost:8080/",
          "height": 279
        },
        "collapsed": true,
        "outputId": "0f826120-9691-42aa-d61a-8ee1fc9437be"
      },
      "source": [
        "#Now let's add labels to our chart and display the income data. \n",
        "#In pyplot X and Y axis are added like this:\n",
        "\n",
        "#again year and stock index prices but also add another Y for the income: \n",
        "\n",
        "# note that we the way we add two variables to one chart works like this: \n",
        "#plt.plot(X1axis, Y1axis, X2axis, Y2axis):\n",
        "\n",
        "plt.plot(year, Stock_index_price, year, mean_income)\n",
        "\n",
        "#we also want to add x and y labels: \n",
        "\n",
        "# first X, which is years: \n",
        "plt.xlabel('Year')\n",
        "plt.ylabel('Stock Price / Income')\n",
        "\n",
        "plt.show()\n",
        " "
      ],
      "execution_count": null,
      "outputs": [
        {
          "output_type": "display_data",
          "data": {
            "image/png": "[encoded data removed]",
            "text/plain": [
              "<Figure size 432x288 with 1 Axes>"
            ]
          },
          "metadata": {
            "tags": [],
            "needs_background": "light"
          }
        }
      ]
    },
    {
      "cell_type": "code",
      "metadata": {
        "id": "kVv5-U6T5xJw",
        "colab": {
          "base_uri": "https://localhost:8080/",
          "height": 279
        },
        "collapsed": true,
        "outputId": "8f631df5-4f99-4bac-a369-b59419f5fb29"
      },
      "source": [
        "# next step, I don't like these deafult colors (blue and orange)\n",
        "# let's use the same code but add colors, in the plt.plot() command.\n",
        "\n",
        "\n",
        "plt.plot(year, Stock_index_price, 'c', year, mean_income, 'k')\n",
        "\n",
        "# we'll talk more about colors later in this notebook\n",
        "\n",
        "plt.xlabel('Yaer')\n",
        "plt.ylabel('Stock Price / Income')\n",
        " \n",
        "\n",
        "plt.show()"
      ],
      "execution_count": null,
      "outputs": [
        {
          "output_type": "display_data",
          "data": {
            "image/png": "[encoded data removed]",
            "text/plain": [
              "<Figure size 432x288 with 1 Axes>"
            ]
          },
          "metadata": {
            "tags": []
          }
        }
      ]
    },
    {
      "cell_type": "markdown",
      "metadata": {
        "id": "uzpA8Alq8GKV"
      },
      "source": [
        "## 2. more examples: display colors and line types"
      ]
    },
    {
      "cell_type": "code",
      "metadata": {
        "id": "3n5scGAwqYIW",
        "colab": {
          "base_uri": "https://localhost:8080/",
          "height": 279
        },
        "collapsed": true,
        "outputId": "ed8e3142-0faf-4e03-b933-b30d2122ab6e"
      },
      "source": [
        " # Now let's try another simple plot, with a range of 1-7. \n",
        "plt.plot([1, 2, 3, 4, 5, 6, 7])\n",
        "\n",
        "# add labels: \n",
        "plt.ylabel('Y')\n",
        "plt.xlabel('X')\n",
        "# and again use the plt.show() command that will visualize the our plot\n",
        "plt.show()"
      ],
      "execution_count": null,
      "outputs": [
        {
          "output_type": "display_data",
          "data": {
            "image/png": "[encoded data removed]",
            "text/plain": [
              "<Figure size 432x288 with 1 Axes>"
            ]
          },
          "metadata": {
            "tags": [],
            "needs_background": "light"
          }
        }
      ]
    },
    {
      "cell_type": "markdown",
      "metadata": {
        "id": "ZLs_CqH2qkXt"
      },
      "source": [
        "Now let's change the plot type from line (default) to dots ('ro'). Also, let's change the location of the dots so it is not as symmatrical as before.\n"
      ]
    },
    {
      "cell_type": "code",
      "metadata": {
        "id": "BFmxXQEiqfAg",
        "colab": {
          "base_uri": "https://localhost:8080/",
          "height": 265
        },
        "collapsed": true,
        "outputId": "6d32929e-4bbe-47c7-c905-be4b347adbf1"
      },
      "source": [
        "plt.plot([1, 2, 3, 4, 5], [1, 4, 5, 6,12], 'ro')\n",
        "plt.show()\n"
      ],
      "execution_count": null,
      "outputs": [
        {
          "output_type": "display_data",
          "data": {
            "image/png": "[encoded data removed]",
            "text/plain": [
              "<Figure size 432x288 with 1 Axes>"
            ]
          },
          "metadata": {
            "tags": [],
            "needs_background": "light"
          }
        }
      ]
    },
    {
      "cell_type": "code",
      "metadata": {
        "id": "Pq9nR0P3qrFb",
        "colab": {
          "base_uri": "https://localhost:8080/",
          "height": 282
        },
        "collapsed": true,
        "outputId": "0be6b3ae-9069-43e2-9c09-760f629848a4"
      },
      "source": [
        "# We can also change the marker type, let's it a try using marker type +: \n",
        "\n",
        "plt.plot([1, 2, 3, 4, 5], [1, 4, 5, 6,12], marker = '+')"
      ],
      "execution_count": null,
      "outputs": [
        {
          "output_type": "execute_result",
          "data": {
            "text/plain": [
              "[<matplotlib.lines.Line2D at 0x7f59fff41950>]"
            ]
          },
          "metadata": {
            "tags": []
          },
          "execution_count": 31
        },
        {
          "output_type": "display_data",
          "data": {
            "image/png": "[encoded data removed]",
            "text/plain": [
              "<Figure size 432x288 with 1 Axes>"
            ]
          },
          "metadata": {
            "tags": [],
            "needs_background": "light"
          }
        }
      ]
    },
    {
      "cell_type": "code",
      "metadata": {
        "id": "Bw5gN7iiqxCP",
        "colab": {
          "base_uri": "https://localhost:8080/",
          "height": 282
        },
        "collapsed": true,
        "outputId": "24bd3676-013c-41e8-9a06-adfd1886debe"
      },
      "source": [
        "# define line color, color is singnalized using the letter 'c' or 'color', \n",
        "# alpha is the transparency level\n",
        "\n",
        "plt.plot([1, 2, 3, 4, 5], [1, 4, 5, 6,12], marker = '+', c = 'b', alpha = 0.8)"
      ],
      "execution_count": null,
      "outputs": [
        {
          "output_type": "execute_result",
          "data": {
            "text/plain": [
              "[<matplotlib.lines.Line2D at 0x7f59fff35910>]"
            ]
          },
          "metadata": {
            "tags": []
          },
          "execution_count": 32
        },
        {
          "output_type": "display_data",
          "data": {
            "image/png": "[encoded data removed]",
            "text/plain": [
              "<Figure size 432x288 with 1 Axes>"
            ]
          },
          "metadata": {
            "tags": [],
            "needs_background": "light"
          }
        }
      ]
    },
    {
      "cell_type": "markdown",
      "metadata": {
        "id": "1fDa_pYyrSJh"
      },
      "source": [
        "### A little more about colors in pyplot: \n",
        "- Here's more information on different color codes on matplotlib: https://matplotlib.org/2.0.2/api/colors_api.html\n",
        "- For more specific colors you can use hex strings (similiar to what we used on QGIS). To do so you need to write the exact hex code, for example: color = '#eeefff' \n",
        "you can find the exact hex color code you are looking for here: https://htmlcolorcodes.com/ "
      ]
    },
    {
      "cell_type": "code",
      "metadata": {
        "id": "xYYb3apSrSxy",
        "colab": {
          "base_uri": "https://localhost:8080/",
          "height": 282
        },
        "collapsed": true,
        "outputId": "fb5d458b-7f79-46bd-e977-8c9b9476eb5f"
      },
      "source": [
        "# using alpha, you can control the transparency level\n",
        "\n",
        "plt.plot([1, 2, 3, 4, 6], [1, 3, 5,6,8], marker = '+', c = 'm', alpha = 0.3)\n"
      ],
      "execution_count": null,
      "outputs": [
        {
          "output_type": "execute_result",
          "data": {
            "text/plain": [
              "[<matplotlib.lines.Line2D at 0x7f5a00404550>]"
            ]
          },
          "metadata": {
            "tags": []
          },
          "execution_count": 40
        },
        {
          "output_type": "display_data",
          "data": {
            "image/png": "[encoded data removed]",
            "text/plain": [
              "<Figure size 432x288 with 1 Axes>"
            ]
          },
          "metadata": {
            "tags": [],
            "needs_background": "light"
          }
        }
      ]
    },
    {
      "cell_type": "code",
      "metadata": {
        "id": "6HvCYHyqrYJ_",
        "colab": {
          "base_uri": "https://localhost:8080/",
          "height": 282
        },
        "collapsed": true,
        "outputId": "f15b6acc-22a9-447a-d203-fda4282c2a67"
      },
      "source": [
        "# changing line style: \n",
        "\n",
        "plt.plot([1, 2, 3, 3, 5], [1, 4, 5, 12,20], ls = ':', c = 'm', alpha = 0.8)\n",
        "\n"
      ],
      "execution_count": null,
      "outputs": [
        {
          "output_type": "execute_result",
          "data": {
            "text/plain": [
              "[<matplotlib.lines.Line2D at 0x7f5ff8038470>]"
            ]
          },
          "metadata": {
            "tags": []
          },
          "execution_count": 54
        },
        {
          "output_type": "display_data",
          "data": {
            "image/png": "[encoded data removed]",
            "text/plain": [
              "<Figure size 432x288 with 1 Axes>"
            ]
          },
          "metadata": {
            "tags": []
          }
        }
      ]
    },
    {
      "cell_type": "markdown",
      "metadata": {
        "id": "CK8NLqrouSAQ"
      },
      "source": [
        "*italicized text*## A. Try it on your own  \n",
        "1. plot a line with these (x,y) points: (1,1), (3,4), (5,4.5)\n",
        "2. set line style to: '--'\n",
        "3. set the color to cyan \n",
        "4. set the transparency level to 0.6\n",
        "\n"
      ]
    },
    {
      "cell_type": "code",
      "metadata": {
        "id": "sws_SKaXrdXR"
      },
      "source": [
        "# write your code here... "
      ],
      "execution_count": null,
      "outputs": []
    },
    {
      "cell_type": "markdown",
      "metadata": {
        "id": "9IvivbWc9Jev"
      },
      "source": [
        "## 3. Now let's complicate things, just a little bit!\n",
        "JK the next chart is pretty much the same as the previuos one, with slight design changes"
      ]
    },
    {
      "cell_type": "code",
      "metadata": {
        "id": "LC8TAruxrqV1",
        "colab": {
          "base_uri": "https://localhost:8080/",
          "height": 264
        },
        "collapsed": true,
        "outputId": "24dfff5d-2e12-44d8-b24e-48e219ceb50b"
      },
      "source": [
        "\n",
        "line1 = plt.plot([1, 2, 2.5, 4, 5], [1, 3.8, 5, 6,12],marker = '+', c = '#142BD3FF')\n",
        "line2 = plt.plot([1.5, 2, 3, 4, 5], [1, 4, 5, 12,15], marker = '.', c = 'r')\n",
        "#let's add a title \n",
        "plt.title('Two lines: red & blue')\n",
        "#and now add both axis\n",
        "#plt.ylabel('this is Y')\n",
        "#plt.xlabel('this is X')\n",
        "# remove axis: \n",
        "plt.axis('off')\n",
        "# I can choose the location of text so I can have the next right near each line\n",
        "\n",
        "plt.text(4.9,12.6, 'blue line')\n",
        "plt.text(4.9,15.5, 'red line')\n",
        "plt.show()"
      ],
      "execution_count": null,
      "outputs": [
        {
          "output_type": "display_data",
          "data": {
            "image/png": "[encoded data removed]",
            "text/plain": [
              "<Figure size 432x288 with 1 Axes>"
            ]
          },
          "metadata": {
            "tags": [],
            "needs_background": "light"
          }
        }
      ]
    },
    {
      "cell_type": "markdown",
      "metadata": {
        "id": "rxB9zPj9_hRB"
      },
      "source": [
        "## 4. Multiple charts "
      ]
    },
    {
      "cell_type": "code",
      "metadata": {
        "id": "16qQwKoC_gbp",
        "colab": {
          "base_uri": "https://localhost:8080/",
          "height": 320
        },
        "collapsed": true,
        "outputId": "2f1e5359-44c8-4710-fe1b-6017391ad693"
      },
      "source": [
        "#let's go back to our initial charts: \n",
        "\n",
        "# fig1 is the 1st chart, we will define the size we want the chart to be displayed with \"figsize\": \n",
        "fig1 = plt.figure(1, figsize= (12,5))\n",
        "\n",
        "#now let's add the 1st chart to our plot using the \"add_subplot\" function\n",
        "# the number 121 will set the location of the subplot \n",
        "# This means that we creates a 1 on 2 grid. \n",
        "# One row and two columns. \n",
        "# The last one means that chart 1 will be displayed first and\n",
        "# chart 2 will be displayed 2nd in the grid\n",
        "\n",
        "chart1 = fig1.add_subplot(122)\n",
        "\n",
        "#let's add the 2nd chart, located in 122\n",
        "chart2 = fig1.add_subplot(121)\n",
        "\n",
        "# now let's add the data into these two charts:\n",
        "\n",
        "#the first one, year and stock price:\n",
        "chart1.plot(year, Stock_index_price, 'c')\n",
        "\n",
        "#2nd chart with year and income \n",
        "chart2.plot(year, mean_income, 'b')\n",
        "\n",
        "\n",
        "#in the same way, using this grid we can create many more charts together \n",
        "\n",
        " \n",
        "\n",
        "plt.show()\n",
        "\n",
        "# once we visualize this we will see that we will see that we will have two charts. \n",
        "# Each chart will have its own X and Y axis "
      ],
      "execution_count": null,
      "outputs": [
        {
          "output_type": "display_data",
          "data": {
            "image/png": "[encoded data removed]",
            "text/plain": [
              "<Figure size 864x360 with 2 Axes>"
            ]
          },
          "metadata": {
            "tags": [],
            "needs_background": "light"
          }
        }
      ]
    },
    {
      "cell_type": "markdown",
      "metadata": {
        "id": "Kk9GzTP-HGx9"
      },
      "source": [
        "## 5. Bar Plots: "
      ]
    },
    {
      "cell_type": "markdown",
      "metadata": {
        "id": "XY93EwJXr1zK"
      },
      "source": [
        "\n",
        "\n",
        "Let's say we want to compare the mean temperatures in NYC with those of SF. Comparing both in a bar plot will make it clear to compare values month-by-month. I got the monthely data from here: https://www.currentresults.com/index.php "
      ]
    },
    {
      "cell_type": "code",
      "metadata": {
        "id": "pvok7pZJr0Y0",
        "colab": {
          "base_uri": "https://localhost:8080/",
          "height": 281
        },
        "collapsed": true,
        "outputId": "f89a745d-8023-4950-e932-addd176f61e2"
      },
      "source": [
        "# first plot only NYC: \n",
        "months = ['Jan', 'Feb', 'Mar', 'Apr', 'May', 'June', 'July', 'August', 'Sep', 'Oct', 'Nov', 'Dec']\n",
        "datanyc = [4,5,10,16,22,26,29,28,24,18,12,6]\n",
        "\n",
        "\n",
        "X = np.arange(len(months))\n",
        "\n",
        "plt.bar(X, datanyc)\n",
        "plt.title('Mean Temp by month in NYC')\n",
        "\n",
        "\n",
        "plt.show()"
      ],
      "execution_count": null,
      "outputs": [
        {
          "output_type": "display_data",
          "data": {
            "image/png": "[encoded data removed]",
            "text/plain": [
              "<Figure size 432x288 with 1 Axes>"
            ]
          },
          "metadata": {
            "tags": [],
            "needs_background": "light"
          }
        }
      ]
    },
    {
      "cell_type": "markdown",
      "metadata": {
        "id": "XPZj1AjOsfjU"
      },
      "source": [
        "### Now let's plot both NYC and SF in one chart\n",
        "Also make a few cosmetic changes "
      ]
    },
    {
      "cell_type": "code",
      "metadata": {
        "id": "a3pqgmQlsHMJ",
        "colab": {
          "base_uri": "https://localhost:8080/"
        },
        "collapsed": true,
        "outputId": "dbc4ca19-9d71-42d4-e32a-cb6b42c0e3dd"
      },
      "source": [
        "# The first object of data (data[0]) is the NYC mean temp. The second \n",
        "data = [[4,5,10,16,22,26,29,28,24,18,12,6],\n",
        "[14,16,17,17,18,19,19,20,21,21,17,14]]\n",
        "\n",
        "months = ['Jan', 'Feb', 'Mar', 'Apr', 'May', 'June', 'July', 'August', 'Sep', 'Oct', 'Nov', 'Dec']\n",
        "\n",
        "X = np.arange(len(months))\n",
        "fig = plt.figure()\n",
        "ax = fig.add_axes([0,0,1,1])\n",
        "ax.bar(X + 0.00, data[0], color = 'b', width = 0.35, alpha = 0.6)\n",
        "ax.bar(X + 0.3, data[1], color = 'c', width = 0.35, alpha = 0.8)\n",
        "\n",
        "# create a DIY legend \n",
        "plt.text(0.1,28, 'NYC', c= 'b')\n",
        "plt.text(0.1,26.5, 'San Francisco', c = 'c')\n",
        "\n",
        "#set the x length and lables to be months names \n",
        "#ax.set_xticks(x)\n",
        "#ax.set_xticklabels(labels, c='m')\n",
        "\n",
        "# add title\n",
        "\n",
        "#ax.set_title('Mean Temp by month in SF & NYC', c= 'm')\n",
        "\n",
        "\n",
        "plt.show()"
      ],
      "execution_count": null,
      "outputs": [
        {
          "output_type": "display_data",
          "data": {
            "image/png": "[encoded data removed]",
            "text/plain": [
              "<Figure size 432x288 with 1 Axes>"
            ]
          },
          "metadata": {
            "tags": [],
            "needs_background": "light"
          }
        }
      ]
    },
    {
      "cell_type": "markdown",
      "metadata": {
        "id": "7TcDAH8euN6e"
      },
      "source": [
        "### Your turn:\n",
        "B. Visualize as bar plot some of the world most populated cities (in millions):\n",
        "\n",
        "    Tokyo      13\n",
        "    Jakarta    10.1\n",
        "    Chongqing  30\n",
        "    Manila     1.8\n",
        "    Delhi.     16.7\n",
        "    Seoul      9.8\n",
        "    Mumbai     12.5\n",
        "    Shanghai   24.2\n",
        "    Sao Paulo  12.2"
      ]
    },
    {
      "cell_type": "code",
      "metadata": {
        "id": "KJ2ZIHePuNZ9"
      },
      "source": [
        "# your code here: "
      ],
      "execution_count": null,
      "outputs": []
    },
    {
      "cell_type": "markdown",
      "metadata": {
        "id": "no0NnlgBu4v5"
      },
      "source": [
        "# There are many more cool stuff to do with Pyplot\n",
        " see if you can explore it on your own\n"
      ]
    },
    {
      "cell_type": "code",
      "metadata": {
        "id": "2GMdtl_Iujun",
        "colab": {
          "base_uri": "https://localhost:8080/",
          "height": 265
        },
        "collapsed": true,
        "outputId": "9f96463c-a914-47e4-cbe8-943dc7067baa"
      },
      "source": [
        "N = 9\n",
        "x = 1,2.5,3,4,5,6,7,8,11\n",
        "y = 12,3,4,1,8,5,8,11,2\n",
        "colors = np.random.rand(N)\n",
        "area = 100,550,6000,70,800,100,500,2000,303\n",
        "plt.scatter(x, y, s=area, c=colors, alpha=0.5)\n",
        "plt.show()"
      ],
      "execution_count": null,
      "outputs": [
        {
          "output_type": "display_data",
          "data": {
            "image/png": "[encoded data removed]",
            "text/plain": [
              "<Figure size 432x288 with 1 Axes>"
            ]
          },
          "metadata": {
            "tags": [],
            "needs_background": "light"
          }
        }
      ]
    },
    {
      "cell_type": "code",
      "metadata": {
        "id": "oei0RefPuuVs"
      },
      "source": [
        ""
      ],
      "execution_count": null,
      "outputs": []
    }
  ]
}