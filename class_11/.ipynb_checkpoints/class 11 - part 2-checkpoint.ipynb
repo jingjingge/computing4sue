{
 "cells": [
  {
   "cell_type": "markdown",
   "metadata": {},
   "source": [
    "# Class 11: part 2 \n",
    "\n",
    "NYU Tandon C4SUE @avigailvantu , April 2021\n",
    "\n",
    "## Polygons, merging, more mapping features, and creating choropleth maps \n",
    "\n",
    "In this notebook we will be back to working with the NYT COVID-19 data that we worked with in the past few classes. "
   ]
  },
  {
   "cell_type": "code",
   "execution_count": null,
   "metadata": {},
   "outputs": [],
   "source": [
    "import pandas as pd\n",
    "import geopandas as gpd\n",
    "import numpy as np\n",
    "%matplotlib inline \n",
    "\n",
    "import matplotlib.pyplot as plt\n",
    "from shapely.geometry import Point\n",
    "from geopandas import GeoDataFrame\n",
    "from shapely.geometry import MultiPolygon\n"
   ]
  },
  {
   "cell_type": "markdown",
   "metadata": {},
   "source": [
    "## States boundries from the Census Buraeu \n",
    "\n",
    "Can be accessed here: \n",
    "\n",
    "https://www.census.gov/geographies/mapping-files/time-series/geo/carto-boundary-file.html"
   ]
  },
  {
   "cell_type": "code",
   "execution_count": null,
   "metadata": {},
   "outputs": [],
   "source": [
    "#load geodataframe\n",
    "states = gpd.read_file('cb_2018_us_state_500k')"
   ]
  },
  {
   "cell_type": "code",
   "execution_count": null,
   "metadata": {},
   "outputs": [],
   "source": [
    "states.head() "
   ]
  },
  {
   "cell_type": "code",
   "execution_count": null,
   "metadata": {},
   "outputs": [],
   "source": [
    "states.plot( color='red',legend=True,figsize=(30, 12),markersize=0.1)\n",
    "plt.axis('off')\n",
    "plt.show()"
   ]
  },
  {
   "cell_type": "code",
   "execution_count": null,
   "metadata": {},
   "outputs": [],
   "source": [
    "states.plot( column='NAME',legend=False,figsize=(40, 10),markersize=0.1)\n",
    "plt.axis('off')\n",
    "plt.show()"
   ]
  },
  {
   "cell_type": "markdown",
   "metadata": {},
   "source": [
    "## COVID-19 data from the NYT \n",
    "\n",
    "my data is up to date as of April 18th \n",
    "\n",
    "https://github.com/nytimes/covid-19-data"
   ]
  },
  {
   "cell_type": "code",
   "execution_count": null,
   "metadata": {},
   "outputs": [],
   "source": [
    "#Load data\n",
    "\n",
    "covidUS = pd.read_csv('us-states.csv')"
   ]
  },
  {
   "cell_type": "code",
   "execution_count": null,
   "metadata": {},
   "outputs": [],
   "source": [
    "covidUS.shape"
   ]
  },
  {
   "cell_type": "code",
   "execution_count": null,
   "metadata": {},
   "outputs": [],
   "source": [
    "#let's see the data  \n",
    "\n",
    "covidUS.head()"
   ]
  },
  {
   "cell_type": "code",
   "execution_count": null,
   "metadata": {},
   "outputs": [],
   "source": [
    "covidUS.tail()"
   ]
  },
  {
   "cell_type": "markdown",
   "metadata": {},
   "source": [
    "# Create a DataFrame for April 18th, the last day in data"
   ]
  },
  {
   "cell_type": "code",
   "execution_count": null,
   "metadata": {},
   "outputs": [],
   "source": [
    "#filter as of the last day in the data\n",
    "\n",
    "april2521 = covidUS[covidUS['date']== '2021-04-25']"
   ]
  },
  {
   "cell_type": "code",
   "execution_count": null,
   "metadata": {},
   "outputs": [],
   "source": [
    "#check out the new filtered data\n",
    "april2521.head()"
   ]
  },
  {
   "cell_type": "markdown",
   "metadata": {},
   "source": [
    "# Time to merge data: \n",
    "\n",
    "We will merge data so that we are able to have the covid-19 data merged with the US countries boundries. \n",
    "\n",
    "The merge function works the same for DataFrame and GeoDataFrames. Basically, it joins two datasets based on a mutual attribute (column). Because our data is state based, we will merge based on that column. In geographical data, we will join the data without geogrpahical attirbutes (covid 19 for us), into the layer with the geomtery column (state shapfile). \n",
    "\n",
    "\n",
    "    "
   ]
  },
  {
   "cell_type": "code",
   "execution_count": null,
   "metadata": {},
   "outputs": [],
   "source": [
    "#copy state column as a prep for merging datasets --> both need to be the same name\n",
    "states['state'] = states['NAME']"
   ]
  },
  {
   "cell_type": "code",
   "execution_count": null,
   "metadata": {},
   "outputs": [],
   "source": [
    "# time to merge: \n",
    "\n",
    "states = states.merge(april2521, on='state')"
   ]
  },
  {
   "cell_type": "code",
   "execution_count": null,
   "metadata": {},
   "outputs": [],
   "source": [
    "#Check out merged data:\n",
    "\n",
    "states.head()"
   ]
  },
  {
   "cell_type": "code",
   "execution_count": null,
   "metadata": {},
   "outputs": [],
   "source": []
  },
  {
   "cell_type": "markdown",
   "metadata": {},
   "source": [
    "## Visualize the merged data: \n",
    "\n"
   ]
  },
  {
   "cell_type": "code",
   "execution_count": null,
   "metadata": {},
   "outputs": [],
   "source": [
    "states.plot(column='cases',figsize=(30, 10),cmap='PuRd')\n",
    "\n",
    "plt.title('cases')\n",
    "plt.show()"
   ]
  },
  {
   "cell_type": "markdown",
   "metadata": {},
   "source": [
    "\n",
    "## Set a map x and y range\n",
    "\n",
    "Often the deafult of the map that will be plotted will not show the map in its ideal range. For example: \n"
   ]
  },
  {
   "cell_type": "code",
   "execution_count": null,
   "metadata": {},
   "outputs": [],
   "source": [
    "states.plot(column='cases',figsize=(60, 10),cmap='PuRd')\n",
    "\n",
    "plt.title('cases by state')\n",
    "plt.ylim((23,50))\n",
    "plt.xlim((-130,-66))\n",
    "plt.show()"
   ]
  },
  {
   "cell_type": "markdown",
   "metadata": {},
   "source": [
    "## And final touches-->\n",
    "\n",
    "- remove axis, \n",
    "- adjust title + its size & color \n",
    "- add legend\n"
   ]
  },
  {
   "cell_type": "code",
   "execution_count": null,
   "metadata": {},
   "outputs": [],
   "source": [
    "states.plot(column='cases',legend=True, figsize=(60, 10),cmap='PuRd')\n",
    "plt.axis('off')\n",
    "plt.title('COVID-19 cases by state as of April 18th', fontsize=23, color ='purple')\n",
    "plt.ylim((23,50))\n",
    "plt.xlim((-130,-66))\n",
    "plt.show()"
   ]
  },
  {
   "cell_type": "markdown",
   "metadata": {},
   "source": [
    "# Le'ts zoom into the the tri-state area \n",
    "\n",
    "To do so first let's plot the axis again so we can see the range of the coordinates we want to zoom into."
   ]
  },
  {
   "cell_type": "code",
   "execution_count": null,
   "metadata": {},
   "outputs": [],
   "source": [
    "states.plot(column='cases',legend=True, figsize=(60, 10),cmap='PuRd')\n",
    "#plt.axis('off')\n",
    "plt.title('COVID-19 cases by state as of April 18th', fontsize=23, color ='purple')\n",
    "#this is the y range\n",
    "plt.ylim((23,50))\n",
    "#this is the x range \n",
    "plt.xlim((-130,-66))\n",
    "plt.show()"
   ]
  },
  {
   "cell_type": "code",
   "execution_count": null,
   "metadata": {},
   "outputs": [],
   "source": [
    "states.plot(column='cases',legend=True, figsize=(60, 10),cmap='PuRd')\n",
    "#plt.axis('off')\n",
    "plt.title('Tri-state area covid-19', fontsize=23, color ='purple')\n",
    "plt.ylim((35,50))\n",
    "plt.xlim((-80,-66))\n",
    "plt.show()"
   ]
  },
  {
   "cell_type": "markdown",
   "metadata": {},
   "source": [
    "# Now Let's Plot Multiple Plots Side-By-Side "
   ]
  },
  {
   "cell_type": "code",
   "execution_count": null,
   "metadata": {},
   "outputs": [],
   "source": [
    "#1.tri-state area \n",
    "ax1 = states.plot(column='cases',legend=True, figsize=(60, 10),cmap='summer') \n",
    "plt.title('Tri-state area covid-19', fontsize=23, color ='green')\n",
    "plt.ylim((35,50))\n",
    "plt.xlim((-80,-66))\n",
    "plt.show()\n",
    "\n",
    "#2. west coast \n",
    "ax2 = states.plot(column='cases', figsize=(60, 10),cmap='summer')\n",
    "plt.title('West Coast COVID-19', fontsize=23, color ='green')\n",
    "plt.ylim((28,50))\n",
    "plt.xlim((-125,-110))\n",
    "plt.show()\n",
    "\n"
   ]
  },
  {
   "cell_type": "markdown",
   "metadata": {},
   "source": [
    "# Task 1: \n",
    "\n",
    "Can you plot 2 plots of the cases in the us:\n",
    "1. For April 1st, 2020\n",
    "2. For April 1st, 2021 \n",
    "\n",
    "* What are some of the trends you found? Which trends have remained the same and which have changed in this past year? \n",
    "\n",
    "# Task 2: \n",
    "\n",
    "Can you visualize one state's cases only? \n",
    "\n",
    "# Task 3: \n",
    "\n",
    "using the below counties data, can you merge the data with NYS's counties and visualize the number of cases on April 25th 2021? \n",
    "\n",
    "If so, what were the steps that led you there? If not, what are some of the issues you faced and the techniques you looked into? \n",
    "\n",
    "Suggested places to look for counties shapefile:\n",
    "1. https://catalog.data.gov/dataset/tiger-line-shapefile-2016-state-new-york-current-county-subdivision-state-based \n",
    "2. https://cugir.library.cornell.edu/catalog/cugir-007865 \n"
   ]
  },
  {
   "cell_type": "code",
   "execution_count": null,
   "metadata": {},
   "outputs": [],
   "source": [
    "counties = pd.read_csv('us-counties.csv')\n",
    "counties[counties['state']=='New York']"
   ]
  },
  {
   "cell_type": "code",
   "execution_count": null,
   "metadata": {},
   "outputs": [],
   "source": [
    "counties[counties['date']=='2021-03-01']"
   ]
  },
  {
   "cell_type": "code",
   "execution_count": null,
   "metadata": {},
   "outputs": [],
   "source": [
    "#your code here... "
   ]
  },
  {
   "cell_type": "code",
   "execution_count": null,
   "metadata": {},
   "outputs": [],
   "source": []
  }
 ],
 "metadata": {
  "kernelspec": {
   "display_name": "Python 3",
   "language": "python",
   "name": "python3"
  },
  "language_info": {
   "codemirror_mode": {
    "name": "ipython",
    "version": 3
   },
   "file_extension": ".py",
   "mimetype": "text/x-python",
   "name": "python",
   "nbconvert_exporter": "python",
   "pygments_lexer": "ipython3",
   "version": "3.8.5"
  }
 },
 "nbformat": 4,
 "nbformat_minor": 4
}
